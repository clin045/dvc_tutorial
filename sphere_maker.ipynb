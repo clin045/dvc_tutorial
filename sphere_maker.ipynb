{
 "cells": [
  {
   "cell_type": "markdown",
   "metadata": {},
   "source": [
    "Make ROI Spheres from Coordinates\n",
    "==="
   ]
  },
  {
   "cell_type": "code",
   "execution_count": 1,
   "metadata": {},
   "outputs": [
    {
     "name": "stderr",
     "output_type": "stream",
     "text": [
      "/usr/local/lib/python2.7/dist-packages/dicom/__init__.py:53: UserWarning: \n",
      "This code is using an older version of pydicom, which is no longer \n",
      "maintained as of Jan 2017.  You can access the new pydicom features and API \n",
      "by installing `pydicom` from PyPI.\n",
      "See 'Transitioning to pydicom 1.x' section at pydicom.readthedocs.org \n",
      "for more information.\n",
      "\n",
      "  warnings.warn(msg)\n",
      "/usr/local/lib/python2.7/dist-packages/nilearn/__init__.py:73: DeprecationWarning: Python2 support is deprecated and will be removed in the next release. Consider switching to Python 3.6 or 3.7.\n",
      "  _python_deprecation_warnings()\n"
     ]
    }
   ],
   "source": [
    "from nilearn import datasets, image, plotting\n",
    "from sklearn.neighbors import NearestNeighbors\n",
    "import numpy as np\n",
    "import pandas as pd\n",
    "from numpy.linalg import inv\n",
    "import os\n",
    "from tqdm import tqdm\n",
    "%matplotlib inline"
   ]
  },
  {
   "cell_type": "markdown",
   "metadata": {},
   "source": [
    "By default, this notebook assumes that the coordinates list is in MNI space. If it is already in voxel space, \n",
    "add `voxel_coord = True` to the call to `make_spheres` in the last cell "
   ]
  },
  {
   "cell_type": "code",
   "execution_count": 2,
   "metadata": {},
   "outputs": [],
   "source": [
    "mni_coords = pd.read_csv('./tutorial_coords.csv', header = None)"
   ]
  },
  {
   "cell_type": "code",
   "execution_count": 3,
   "metadata": {},
   "outputs": [],
   "source": [
    "mni_coords = mni_coords.dropna()"
   ]
  },
  {
   "cell_type": "code",
   "execution_count": 4,
   "metadata": {},
   "outputs": [],
   "source": [
    "mni_brain = datasets.load_mni152_brain_mask()"
   ]
  },
  {
   "cell_type": "code",
   "execution_count": 5,
   "metadata": {},
   "outputs": [],
   "source": [
    "brain_coords_list = []\n",
    "for i in range(0, mni_brain.shape[0]):\n",
    "    for j in range(0, mni_brain.shape[1]):\n",
    "        for k in range(0, mni_brain.shape[2]):\n",
    "            brain_coords_list.append([i, j, k])"
   ]
  },
  {
   "cell_type": "code",
   "execution_count": 6,
   "metadata": {},
   "outputs": [],
   "source": [
    "# Specify the radius of the sphere (in voxels) here. For the default mni template brain, each voxel is 2mm\n",
    "nbrs = NearestNeighbors(metric='euclidean', radius = 1).fit(brain_coords_list)"
   ]
  },
  {
   "cell_type": "code",
   "execution_count": 7,
   "metadata": {},
   "outputs": [],
   "source": [
    "def make_sphere(nbrs, coord, coord_space, brain_mask, voxel_coord = False):\n",
    "    #Transform to voxelwise coords\n",
    "    if voxel_coord == False:\n",
    "        inv_affine = inv(mni_brain.affine)\n",
    "        coord = image.coord_transform(coord[0], coord[1], coord[2], inv_affine)\n",
    "        \n",
    "    indices = nbrs.radius_neighbors([coord])[1]\n",
    "    blank = np.zeros(brain_mask.shape)\n",
    "    #print(coord_space[indices[0]])\n",
    "    for c in coord_space[indices[0]]:\n",
    "        blank[c[0], c[1], c[2]] = 1\n",
    "    sphere_img = image.new_img_like(brain_mask, blank)\n",
    "    return sphere_img\n",
    "    \n"
   ]
  },
  {
   "cell_type": "code",
   "execution_count": 8,
   "metadata": {},
   "outputs": [
    {
     "name": "stderr",
     "output_type": "stream",
     "text": [
      "10it [00:06,  1.56it/s]\n"
     ]
    }
   ],
   "source": [
    "# Specify output directory\n",
    "\n",
    "outdir = './data/spheres'\n",
    "os.mkdir(outdir)\n",
    "\n",
    "for c in tqdm(mni_coords.iterrows()):\n",
    "    sphere = make_sphere(nbrs, c[1], np.asarray(brain_coords_list), mni_brain)\n",
    "    sphere.to_filename(outdir + '/' + str(c[1][0])+ '_' + str(c[1][1]) + '_' + str(c[1][2]) + '.nii.gz')"
   ]
  },
  {
   "cell_type": "code",
   "execution_count": null,
   "metadata": {},
   "outputs": [],
   "source": []
  }
 ],
 "metadata": {
  "kernelspec": {
   "display_name": "nimlab-python2-kernel",
   "language": "python",
   "name": "nimlab-python2-kernel"
  },
  "language_info": {
   "codemirror_mode": {
    "name": "ipython",
    "version": 2
   },
   "file_extension": ".py",
   "mimetype": "text/x-python",
   "name": "python",
   "nbconvert_exporter": "python",
   "pygments_lexer": "ipython2",
   "version": "2.7.12"
  }
 },
 "nbformat": 4,
 "nbformat_minor": 4
}
