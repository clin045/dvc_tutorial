{
 "cells": [
  {
   "cell_type": "markdown",
   "metadata": {},
   "source": [
    "Two Sample Unpaired T-Test\n",
    "===\n",
    "Author: Christopher Lin <clin5@bidmc.harvard.edu>\n",
    "\n",
    "**NOTE**: This notebook does not specify exchangability blocks, so the full cohort must be exchangeable"
   ]
  },
  {
   "cell_type": "code",
   "execution_count": 1,
   "metadata": {},
   "outputs": [
    {
     "name": "stderr",
     "output_type": "stream",
     "text": [
      "/usr/local/lib/python2.7/dist-packages/dicom/__init__.py:53: UserWarning: \n",
      "This code is using an older version of pydicom, which is no longer \n",
      "maintained as of Jan 2017.  You can access the new pydicom features and API \n",
      "by installing `pydicom` from PyPI.\n",
      "See 'Transitioning to pydicom 1.x' section at pydicom.readthedocs.org \n",
      "for more information.\n",
      "\n",
      "  warnings.warn(msg)\n",
      "/usr/local/lib/python2.7/dist-packages/nilearn/__init__.py:73: DeprecationWarning: Python2 support is deprecated and will be removed in the next release. Consider switching to Python 3.6 or 3.7.\n",
      "  _python_deprecation_warnings()\n"
     ]
    }
   ],
   "source": [
    "import pandas as pd\n",
    "from nilearn import image, plotting\n",
    "import numpy as np\n",
    "import os\n",
    "from nimlab.software import call_palm\n",
    "from matplotlib import pyplot as plt\n",
    "from glob import glob\n",
    "\n",
    "\n",
    "%matplotlib inline"
   ]
  },
  {
   "cell_type": "markdown",
   "metadata": {},
   "source": [
    "Set up file dataframe\n",
    "===\n",
    "The T-test is set up in accordance with the [FSL GLM recipe](https://fsl.fmrib.ox.ac.uk/fsl/fslwiki/GLM#Two-Group_Difference_.28Two-Sample_Unpaired_T-Test.29). An alternate design for the design matrix would be to code group membership as a single dummy variable, and include a column of all 1s for an intercept term. "
   ]
  },
  {
   "cell_type": "code",
   "execution_count": 2,
   "metadata": {},
   "outputs": [],
   "source": [
    "# Point to your csv files\n",
    "group1_filelist = glob('./data/sphere_conn/*')\n",
    "group2_filelist = glob('./src_data/Prosopagnosia/subjects/*/Connectivity/*T.nii.gz')\n",
    "\n",
    "\n",
    "# Select columns of csv to use and specify group membership\n",
    "group1_df = pd.DataFrame()\n",
    "group1_df['file'] = group1_filelist\n",
    "group1_df['group1'] = 1\n",
    "group1_df['group2'] = 0\n",
    "\n",
    "group2_df = pd.DataFrame()\n",
    "group2_df['file'] = group2_filelist\n",
    "group2_df['group1'] = 0\n",
    "group2_df['group2'] = 1"
   ]
  },
  {
   "cell_type": "code",
   "execution_count": 3,
   "metadata": {},
   "outputs": [],
   "source": [
    "\n",
    "df = pd.DataFrame(columns=['group1', 'group2', 'file'])\n",
    "df = df.append(group1_df, ignore_index=True, sort=False)\n",
    "df = df.append(group2_df, ignore_index=True, sort=False)\n"
   ]
  },
  {
   "cell_type": "markdown",
   "metadata": {},
   "source": [
    "Set up PALM config matrices\n",
    "===\n",
    "Two directories are created: `./palm_config` and `./palm_output`. \n",
    "\n",
    "`./palm_config` contains the csv versions of the design and contrast matrices, as well as the FSL formatted versions of them. This folder also contains the concatenated NIFTI image that PALM takes as input. \n",
    "\n",
    "`./palm_output` contains the output from PALM"
   ]
  },
  {
   "cell_type": "code",
   "execution_count": 4,
   "metadata": {},
   "outputs": [],
   "source": [
    "if not os.path.exists('./palm_config'):\n",
    "    os.makedirs('./palm_config')\n",
    "    \n",
    "if not os.path.exists('./palm_output'):\n",
    "    os.makedirs('./palm_output')"
   ]
  },
  {
   "cell_type": "code",
   "execution_count": 5,
   "metadata": {},
   "outputs": [
    {
     "data": {
      "image/png": "[encoded data removed]",
      "text/plain": [
       "<matplotlib.figure.Figure at 0x7f6fd25fae90>"
      ]
     },
     "metadata": {},
     "output_type": "display_data"
    }
   ],
   "source": [
    "# Set up design matrix\n",
    "design_matrix=pd.DataFrame({'group1':pd.to_numeric(df['group1']),\n",
    "                            'group2':pd.to_numeric(df['group2'])})\n",
    "\n",
    "\n",
    "\n",
    "plt.imshow(design_matrix, interpolation='nearest', aspect='auto')\n",
    "plt.colorbar()\n",
    "design_matrix.to_csv('./palm_config/design.csv', header=False, index=False,sep=\"\\t\")\n",
    "!Text2Vest ./palm_config/design.csv ./palm_config/design.mat"
   ]
  },
  {
   "cell_type": "code",
   "execution_count": 6,
   "metadata": {},
   "outputs": [
    {
     "data": {
      "image/png": "[encoded data removed]",
      "text/plain": [
       "<matplotlib.figure.Figure at 0x7f6fd2551d50>"
      ]
     },
     "metadata": {},
     "output_type": "display_data"
    }
   ],
   "source": [
    "# Set up contrast matrix. The contrast only needs one row since we're using the twotailed flag later. \n",
    "contrast_matrix=pd.DataFrame(np.asarray([[-1,1]]))\n",
    "plt.imshow(contrast_matrix)\n",
    "plt.colorbar()\n",
    "contrast_matrix.to_csv('./palm_config/contrast.csv', header=False, index=False,sep=\"\\t\")\n",
    "!Text2Vest ./palm_config/contrast.csv ./palm_config/contrast.con"
   ]
  },
  {
   "cell_type": "code",
   "execution_count": 7,
   "metadata": {},
   "outputs": [],
   "source": [
    "# Concatenate nifti files\n",
    "concat = image.concat_imgs(df['file'])\n",
    "concat.to_filename('palm_config/concat.nii')"
   ]
  },
  {
   "cell_type": "markdown",
   "metadata": {},
   "source": [
    "Run PALM!\n",
    "===\n",
    "Options to note: \n",
    "\n",
    "`-n 2000` specifies that 2000 permutations should be run\n",
    "\n",
    "`-twotail` calculates the contrast as two tailed tests. This makes it unncessary to have two contrasts. \n",
    "\n",
    "`-T` specifies that TFCE should be enabled. Voxelwise outputs are still generated when this option is enabled, so it's advisable to leave it on. \n",
    "\n",
    "`-fdr` computes the FDR p values as well\n",
    "\n",
    "`-accel tail` specifies the [acceleration option](https://fsl.fmrib.ox.ac.uk/fsl/fslwiki/PALM/FasterInference). Alex recommends using tail acceleration with 2000 permutations. \n",
    "\n",
    "`-save1-p` indicates that the p-value maps should be saved as 1-p. This makes the maps easier to visualize. "
   ]
  },
  {
   "cell_type": "code",
   "execution_count": 8,
   "metadata": {},
   "outputs": [
    {
     "name": "stdout",
     "output_type": "stream",
     "text": [
      "=======================================================================\r\n",
      "             ___         ___                         ___\r\n",
      "            /  /\\       /  /\\                       /__/\\\r\n",
      "           /  /::\\     /  /::\\                     |  |::\\\r\n",
      "          /  /:/\\:\\   /  /:/\\:\\    ___     ___     |  |:|:\\\r\n",
      "         /  /:/~/:/  /  /:/~/::\\  /__/\\   /  /\\  __|__|:|\\:\\\r\n",
      "        /__/:/ /:/  /__/:/ /:/\\:\\ \\  \\:\\ /  /:/ /__/::::| \\:\\\r\n",
      "        \\  \\:\\/:/   \\  \\:\\/:/__\\/  \\  \\:\\  /:/  \\  \\:\\~~\\__\\/\r\n",
      "         \\  \\::/     \\  \\::/        \\  \\:\\/:/    \\  \\:\\\r\n",
      "          \\  \\:\\      \\  \\:\\         \\  \\::/      \\  \\:\\\r\n",
      "           \\  \\:\\      \\  \\:\\         \\__\\/        \\  \\:\\\r\n",
      "            \\__\\/       \\__\\/                       \\__\\/\r\n",
      "\r\n",
      "=======================================================================\r\n",
      "                 Permutation Analysis of Linear Models\r\n",
      "=======================================================================\r\n",
      "Running PALM alpha115 using MATLAB 9.3.0.713579 (R2017b) with the following options:\r\n",
      "-o ./palm_output/\r\n",
      "-i ./palm_config/concat.nii\r\n",
      "-d ./palm_config/design.mat\r\n",
      "-t ./palm_config/contrast.con\r\n",
      "-n 10\r\n",
      "-twotail\r\n",
      "-T\r\n",
      "-fdr\r\n",
      "-accel tail\r\n",
      "-save1-p\r\n",
      "Found FSL in /usr/share/fsl/5.0\r\n",
      "Found FreeSurfer in /data1/apps/freesurfer\r\n",
      "\u001b[?1h\u001b=Found HCP Workbench executable in /usr/bin/wb_command\r\n",
      "Reading input 1/1: ./palm_config/concat.nii\r\n",
      "Reading design matrix and contrasts.\r\n",
      "Elapsed time parsing inputs: ~ 20.4682 seconds.\r\n",
      "Number of possible permutations is 2.9382e+19.\r\n",
      "Generating 10 shufflings (permutations only).\r\n",
      "Building null distribution.\r\n",
      "10%\t [Design 1/1, Contrast 1/1, Shuffling 1/10, Modality 1/1]\r\n",
      "\t Saving file: ./palm_output/_vox_tstat\r\n",
      "20%\t [Design 1/1, Contrast 1/1, Shuffling 2/10, Modality 1/1]\r\n",
      "30%\t [Design 1/1, Contrast 1/1, Shuffling 3/10, Modality 1/1]\r\n",
      "40%\t [Design 1/1, Contrast 1/1, Shuffling 4/10, Modality 1/1]\r\n",
      "50%\t [Design 1/1, Contrast 1/1, Shuffling 5/10, Modality 1/1]\r\n",
      "60%\t [Design 1/1, Contrast 1/1, Shuffling 6/10, Modality 1/1]\r\n",
      "70%\t [Design 1/1, Contrast 1/1, Shuffling 7/10, Modality 1/1]\r\n",
      "80%\t [Design 1/1, Contrast 1/1, Shuffling 8/10, Modality 1/1]\r\n",
      "90%\t [Design 1/1, Contrast 1/1, Shuffling 9/10, Modality 1/1]\r\n",
      "100%\t [Design 1/1, Contrast 1/1, Shuffling 10/10, Modality 1/1]\r\n",
      "Elapsed time with permutations: ~ 26.0092 seconds.\r\n",
      "Computing p-values.\r\n",
      "Saving p-values (uncorrected, and corrected within modality and within contrast).\r\n",
      "\t Saving file: ./palm_output/_vox_tstat_uncp\r\n",
      "\t Saving file: ./palm_output/_vox_tstat_fwep\r\n",
      "\t Saving file: ./palm_output/_vox_tstat_fdrp\r\n",
      "\t Saving file: ./palm_output/_tfce_tstat\r\n",
      "\t Saving file: ./palm_output/_tfce_tstat_uncp\r\n",
      "\t Saving file: ./palm_output/_tfce_tstat_fwep\r\n",
      "\t Saving file: ./palm_output/_tfce_tstat_fdrp\r\n",
      "Elapsed time generating and saving results: ~ 85.0004 seconds.\r\n",
      "Overall elapsed time: ~ 131.478 seconds.\r\n",
      "PALM finished at 20-Nov-2019 10:02:57.\r\n",
      "\u001b[?1l\u001b>"
     ]
    }
   ],
   "source": [
    "!palm -o ./palm_output/ -i ./palm_config/concat.nii -d ./palm_config/design.mat -t ./palm_config/contrast.con -n 10 -twotail -T -fdr -accel tail -save1-p"
   ]
  }
 ],
 "metadata": {
  "kernelspec": {
   "display_name": "nimlab-python2-kernel",
   "language": "python",
   "name": "nimlab-python2-kernel"
  },
  "language_info": {
   "codemirror_mode": {
    "name": "ipython",
    "version": 2
   },
   "file_extension": ".py",
   "mimetype": "text/x-python",
   "name": "python",
   "nbconvert_exporter": "python",
   "pygments_lexer": "ipython2",
   "version": "2.7.12"
  }
 },
 "nbformat": 4,
 "nbformat_minor": 4
}
