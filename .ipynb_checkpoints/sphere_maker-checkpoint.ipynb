{
 "cells": [
  {
   "cell_type": "markdown",
   "metadata": {},
   "source": [
    "Make ROI Spheres from Coordinates\n",
    "==="
   ]
  },
  {
   "cell_type": "code",
   "execution_count": 178,
   "metadata": {},
   "outputs": [],
   "source": [
    "from nilearn import datasets, image, plotting\n",
    "from sklearn.neighbors import NearestNeighbors\n",
    "import numpy as np\n",
    "import pandas as pd\n",
    "from numpy.linalg import inv\n",
    "from tqdm import tqdm\n",
    "%matplotlib inline"
   ]
  },
  {
   "cell_type": "markdown",
   "metadata": {},
   "source": [
    "By default, this notebook assumes that the coordinates list is in MNI space. If it is already in voxel space, \n",
    "add `voxel_coord = True` to the call to `make_spheres` in the last cell "
   ]
  },
  {
   "cell_type": "code",
   "execution_count": 143,
   "metadata": {},
   "outputs": [],
   "source": [
    "mni_coords = pd.read_csv('./metadata/test_coords.csv', header = None)"
   ]
  },
  {
   "cell_type": "code",
   "execution_count": 153,
   "metadata": {},
   "outputs": [],
   "source": [
    "mni_coords = mni_coords.dropna()"
   ]
  },
  {
   "cell_type": "code",
   "execution_count": 154,
   "metadata": {},
   "outputs": [],
   "source": [
    "mni_brain = datasets.load_mni152_brain_mask()"
   ]
  },
  {
   "cell_type": "code",
   "execution_count": 166,
   "metadata": {},
   "outputs": [],
   "source": [
    "brain_coords_list = []\n",
    "for i in range(0, mni_brain.shape[0]):\n",
    "    for j in range(0, mni_brain.shape[1]):\n",
    "        for k in range(0, mni_brain.shape[2]):\n",
    "            brain_coords_list.append([i, j, k])"
   ]
  },
  {
   "cell_type": "code",
   "execution_count": 180,
   "metadata": {},
   "outputs": [],
   "source": [
    "# Specify the radius of the sphere (in voxels) here. For the default mni template brain, each voxel is 2mm\n",
    "nbrs = NearestNeighbors(metric='euclidean', radius = 1).fit(brain_coords_list)"
   ]
  },
  {
   "cell_type": "code",
   "execution_count": 186,
   "metadata": {},
   "outputs": [],
   "source": [
    "def make_sphere(nbrs, coord, brain_mask, voxel_coord = False):\n",
    "    #Transform to voxelwise coords\n",
    "    if voxel_coord == False:\n",
    "        inv_affine = inv(mni_brain.affine)\n",
    "        coord = image.coord_transform(coord[0], coord[1], coord[2], inv_affine)\n",
    "        \n",
    "    indices = nbrs.radius_neighbors([coord])[1]\n",
    "    blank = np.zeros(brain_mask.shape)\n",
    "    for coord in coord_arr[indices[0]]:\n",
    "        blank[coord[0], coord[1], coord[2]] = 1\n",
    "    sphere_img = image.new_img_like(brain, blank)\n",
    "    return sphere_img\n",
    "    \n"
   ]
  },
  {
   "cell_type": "code",
   "execution_count": 193,
   "metadata": {},
   "outputs": [
    {
     "name": "stderr",
     "output_type": "stream",
     "text": [
      "2073it [12:44,  2.71it/s]\n"
     ]
    }
   ],
   "source": [
    "# Specify output directory\n",
    "outdir = './data/test_spheres'\n",
    "\n",
    "for c in tqdm(mni_coords.iterrows()):\n",
    "    sphere = make_sphere(nbrs, c[1], mni_brain)\n",
    "    sphere.to_filename(outdir + '/' + str(c[1][0])+ '_' + str(c[1][1]) + '_' + str(c[1][2]) + '.nii.gz')"
   ]
  }
 ],
 "metadata": {
  "kernelspec": {
   "display_name": "nimlab-python2-kernel",
   "language": "python",
   "name": "nimlab-python2-kernel"
  },
  "language_info": {
   "codemirror_mode": {
    "name": "ipython",
    "version": 2
   },
   "file_extension": ".py",
   "mimetype": "text/x-python",
   "name": "python",
   "nbconvert_exporter": "python",
   "pygments_lexer": "ipython2",
   "version": "2.7.12"
  }
 },
 "nbformat": 4,
 "nbformat_minor": 4
}
